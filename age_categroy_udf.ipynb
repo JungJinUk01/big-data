{
 "cells": [
  {
   "cell_type": "code",
   "execution_count": 1,
   "id": "b24cc830",
   "metadata": {},
   "outputs": [],
   "source": [
    "# [+] SparkSession 설정\n",
    "from pyspark.sql import SparkSession\n",
    "spark = SparkSession.builder.master('local').appName('udf').getOrCreate()"
   ]
  },
  {
   "cell_type": "code",
   "execution_count": 2,
   "id": "ca9bbbbc",
   "metadata": {},
   "outputs": [],
   "source": [
    "hsu_student = [\n",
    "    ('정진욱', 23),\n",
    "    ('이주헌',24),\n",
    "    ('안현', 40),\n",
    "    ('조윤상', 24),\n",
    "    ('윤혜진', 23),\n",
    "    ('신희철', 21),\n",
    "    ('최지영', 21),\n",
    "    ('이순재', 89)\n",
    "]"
   ]
  },
  {
   "cell_type": "code",
   "execution_count": 3,
   "id": "f148974a",
   "metadata": {},
   "outputs": [],
   "source": [
    "# [+] 스키마 정의\n",
    "schema = ['name', 'age']"
   ]
  },
  {
   "cell_type": "code",
   "execution_count": 4,
   "id": "b6322d04",
   "metadata": {},
   "outputs": [],
   "source": [
    "# [+] 데이터프레임 생성\n",
    "df = spark.createDataFrame(data= hsu_student, schema=schema)\n",
    "df.createOrReplaceTempView('student')"
   ]
  },
  {
   "cell_type": "code",
   "execution_count": 5,
   "id": "d59f8f9f",
   "metadata": {},
   "outputs": [
    {
     "name": "stdout",
     "output_type": "stream",
     "text": [
      "+------+---+\n",
      "|  name|age|\n",
      "+------+---+\n",
      "|정진욱| 23|\n",
      "|이주헌| 24|\n",
      "|  안현| 40|\n",
      "|조윤상| 24|\n",
      "|윤혜진| 23|\n",
      "|신희철| 21|\n",
      "|최지영| 21|\n",
      "|이순재| 89|\n",
      "+------+---+\n",
      "\n"
     ]
    }
   ],
   "source": [
    "df.show()"
   ]
  },
  {
   "cell_type": "code",
   "execution_count": 6,
   "id": "7402b881",
   "metadata": {},
   "outputs": [
    {
     "name": "stdout",
     "output_type": "stream",
     "text": [
      "root\n",
      " |-- name: string (nullable = true)\n",
      " |-- age: long (nullable = true)\n",
      "\n"
     ]
    }
   ],
   "source": [
    "# [+] 데이터프레임 스키마 출력\n",
    "df.printSchema()"
   ]
  },
  {
   "cell_type": "code",
   "execution_count": 7,
   "id": "b1eefaf9",
   "metadata": {},
   "outputs": [],
   "source": [
    "from pyspark.sql.functions import udf"
   ]
  },
  {
   "cell_type": "code",
   "execution_count": 16,
   "id": "45a73d0e",
   "metadata": {},
   "outputs": [],
   "source": [
    "def age_category(age):\n",
    "    if age <= 35:\n",
    "        category = 'young'\n",
    "    elif age >= 35 and age < 60:\n",
    "        category = 'adult'\n",
    "    elif age >= 60:\n",
    "        category = 'senior'\n",
    "    \n",
    "    return category\n",
    "        "
   ]
  },
  {
   "cell_type": "code",
   "execution_count": 17,
   "id": "ac125a83",
   "metadata": {},
   "outputs": [
    {
     "data": {
      "text/plain": [
       "<function __main__.age_category(age)>"
      ]
     },
     "execution_count": 17,
     "metadata": {},
     "output_type": "execute_result"
    }
   ],
   "source": [
    "spark.udf.register(\"age_category\", age_category)"
   ]
  },
  {
   "cell_type": "code",
   "execution_count": 18,
   "id": "fa6a23d7",
   "metadata": {},
   "outputs": [
    {
     "name": "stdout",
     "output_type": "stream",
     "text": [
      "+------+-----------------+---+\n",
      "|  name|age_category(age)|age|\n",
      "+------+-----------------+---+\n",
      "|정진욱|            young| 23|\n",
      "|이주헌|            young| 24|\n",
      "|  안현|            adult| 40|\n",
      "|조윤상|            young| 24|\n",
      "|윤혜진|            young| 23|\n",
      "|신희철|            young| 21|\n",
      "|최지영|            young| 21|\n",
      "|이순재|           senior| 89|\n",
      "+------+-----------------+---+\n",
      "\n"
     ]
    }
   ],
   "source": [
    "# [+] SQL문 처리\n",
    "spark.sql(\"SELECT name, age_category(age), \\\n",
    "        age \\\n",
    "        FROM student\").show()"
   ]
  }
 ],
 "metadata": {
  "kernelspec": {
   "display_name": "Python 3 (ipykernel)",
   "language": "python",
   "name": "python3"
  },
  "language_info": {
   "codemirror_mode": {
    "name": "ipython",
    "version": 3
   },
   "file_extension": ".py",
   "mimetype": "text/x-python",
   "name": "python",
   "nbconvert_exporter": "python",
   "pygments_lexer": "ipython3",
   "version": "3.9.12"
  }
 },
 "nbformat": 4,
 "nbformat_minor": 5
}
