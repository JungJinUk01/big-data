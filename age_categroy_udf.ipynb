#!/usr/bin/env python
# coding: utf-8

# In[1]:


# [+] SparkSession 설정
from pyspark.sql import SparkSession
spark = SparkSession.builder.master('local').appName('udf').getOrCreate()


# In[2]:


hsu_student = [
    ('정진욱', 23),
    ('이주헌',24),
    ('안현', 40),
    ('조윤상', 24),
    ('윤혜진', 23),
    ('신희철', 21),
    ('최지영', 21),
    ('이순재', 89)
]


# In[3]:


# [+] 스키마 정의
schema = ['name', 'age']


# In[4]:


# [+] 데이터프레임 생성
df = spark.createDataFrame(data= hsu_student, schema=schema)
df.createOrReplaceTempView('student')


# In[5]:


df.show()


# In[6]:


# [+] 데이터프레임 스키마 출력
df.printSchema()


# In[7]:


from pyspark.sql.functions import udf


# In[16]:


def age_category(age):
    if age <= 35:
        category = 'young'
    elif age >= 35 and age < 60:
        category = 'adult'
    elif age >= 60:
        category = 'senior'
    
    return category
        


# In[17]:


spark.udf.register("age_category", age_category)


# In[18]:


# [+] SQL문 처리
spark.sql("SELECT name, age_category(age),         age         FROM student").show()

